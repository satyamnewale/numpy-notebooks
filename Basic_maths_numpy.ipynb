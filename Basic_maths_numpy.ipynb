{
  "cells": [
    {
      "cell_type": "markdown",
      "metadata": {
        "id": "view-in-github",
        "colab_type": "text"
      },
      "source": [
        "<a href=\"https://colab.research.google.com/github/satyamnewale/numpy-notebooks/blob/main/Basic_maths_numpy.ipynb\" target=\"_parent\"><img src=\"https://colab.research.google.com/assets/colab-badge.svg\" alt=\"Open In Colab\"/></a>"
      ]
    },
    {
      "cell_type": "markdown",
      "source": [
        "“Vector arithmetic: dot, cross, norms, cosine similarity, normalization, 2D projection.”"
      ],
      "metadata": {
        "id": "Vtfg12Gm9Qzf"
      }
    },
    {
      "cell_type": "code",
      "source": [
        "import numpy as np\n",
        "\n",
        "a = np.array ([[0],[2],[-4]])\n",
        "b_raw = np.array([[-1,-9,4],[3,-3,12],[-10,1,0]])\n",
        "d = a.flatten()\n",
        "b= np.reshape(b_raw,(3,3))\n",
        "c = np.reshape(d,(3,))\n",
        "print(\"shape and size of c : \",c.shape,c.size,c)\n",
        "print(\"shape and size of b : \",b.shape,b.size)\n",
        "\n",
        "#dot and cross\n",
        "dot_bc = np.dot(b,c)\n",
        "print(\"dot product : \",dot_bc)\n",
        "cross_ab = np.cross(b,c)\n",
        "print(\"cross_product : \",cross_ab) # matrix x vector\n",
        "\n",
        "#Norms and cosines similarity\n",
        "Norm_b =np.linalg.norm(b, axis = 1)\n",
        "Norm_c =np.linalg.norm(c)\n",
        "print(\"Norm of b : \",Norm_b)\n",
        "print(\"Norm of c : \",Norm_c)\n",
        "\n",
        "cosine_bc = np.dot(b , c) / (np.linalg.norm(b, axis = 1) * np.linalg.norm(c))\n",
        "print(\"Cosine similarity : \",cosine_bc)\n",
        "\n",
        "#angle between vectors\n",
        "clip_cosine_bc = np.clip(cosine_bc,-1,1)\n",
        "print(\"Clip : \",clip_cosine_bc)\n",
        "angle_bc = np.arccos(clip_cosine_bc)\n",
        "print(\"Angle between vectors : \",angle_bc)\n",
        "rad_bc = np.degrees(angle_bc)\n",
        "print(\"Angle between vectors : \",rad_bc)"
      ],
      "metadata": {
        "id": "q0RWjfcd9P8T"
      },
      "execution_count": null,
      "outputs": []
    }
  ],
  "metadata": {
    "colab": {
      "name": "Welcome To Colab",
      "provenance": [],
      "include_colab_link": true
    },
    "kernelspec": {
      "display_name": "Python 3",
      "name": "python3"
    }
  },
  "nbformat": 4,
  "nbformat_minor": 0
}