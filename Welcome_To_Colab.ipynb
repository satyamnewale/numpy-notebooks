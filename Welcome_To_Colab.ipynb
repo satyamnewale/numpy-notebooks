{
  "cells": [
    {
      "cell_type": "markdown",
      "metadata": {
        "id": "view-in-github",
        "colab_type": "text"
      },
      "source": [
        "<a href=\"https://colab.research.google.com/github/satyamnewale/numpy-notebooks/blob/main/Welcome_To_Colab.ipynb\" target=\"_parent\"><img src=\"https://colab.research.google.com/assets/colab-badge.svg\" alt=\"Open In Colab\"/></a>"
      ]
    },
    {
      "cell_type": "markdown",
      "source": [
        "“Vector arithmetic: dot, cross, norms, cosine similarity, normalization, 2D projection.”"
      ],
      "metadata": {
        "id": "uxt8B8o6oL4k"
      }
    },
    {
      "cell_type": "code",
      "source": [
        "import numpy as np\n",
        "\n",
        "a = np.array ([[0],[2],[-4]])\n",
        "b_raw = np.array([[-1,-9,4],[3,-3,12],[-10,1,0]])\n",
        "d = a.flatten()\n",
        "b= np.reshape(b_raw,(3,3))\n",
        "c = np.reshape(d,(3,))\n",
        "print(\"shape and size of c : \",c.shape,c.size,c)\n",
        "print(\"shape and size of b : \",b.shape,b.size)\n",
        "\n",
        "#dot and cross\n",
        "dot_bc = np.dot(b,c)\n",
        "print(\"dot product : \",dot_bc)\n",
        "cross_ab = np.cross(b,c)\n",
        "print(\"cross_product : \",cross_ab) # matrix x vector\n",
        "\n",
        "#Norms and cosines similarity\n",
        "Norm_b =np.linalg.norm(b, axis = 1)\n",
        "Norm_c =np.linalg.norm(c)\n",
        "print(\"Norm of b : \",Norm_b)\n",
        "print(\"Norm of c : \",Norm_c)\n",
        "\n",
        "cosine_bc = np.dot(b , c) / (np.linalg.norm(b, axis = 1) * np.linalg.norm(c))\n",
        "print(\"Cosine similarity : \",cosine_bc)\n",
        "\n",
        "#angle between vectors\n",
        "clip_cosine_bc = np.clip(cosine_bc,-1,1)\n",
        "print(\"Clip : \",clip_cosine_bc)\n",
        "angle_bc = np.arccos(clip_cosine_bc)\n",
        "print(\"Angle between vectors : \",angle_bc)\n",
        "rad_bc = np.degrees(angle_bc)\n",
        "print(\"Angle between vectors : \",rad_bc)"
      ],
      "metadata": {
        "colab": {
          "base_uri": "https://localhost:8080/"
        },
        "id": "EaeCfZDv81lu",
        "outputId": "65668d11-43c0-4fce-f9f2-ba9f57dbac7d"
      },
      "execution_count": 28,
      "outputs": [
        {
          "output_type": "stream",
          "name": "stdout",
          "text": [
            "shape and size of c :  (3,) 3 [ 0  2 -4]\n",
            "shape and size of b :  (3, 3) 9\n",
            "dot product :  [-34 -54   2]\n",
            "cross_product :  [[ 28  -4  -2]\n",
            " [-12  12   6]\n",
            " [ -4 -40 -20]]\n",
            "Norm of b :  [ 9.89949494 12.72792206 10.04987562]\n",
            "Norm of c :  4.47213595499958\n",
            "Cosine similarity :  [-0.76798172 -0.9486833   0.04449942]\n",
            "Cosine similarity :  [-0.76798172 -0.9486833   0.04449942]\n",
            "Angle between vectors :  [2.44648025 2.8198421  1.52628221]\n",
            "Angle between vectors :  [140.17299318 161.56505118  87.44952906]\n"
          ]
        }
      ]
    }
  ],
  "metadata": {
    "colab": {
      "name": "Welcome To Colab",
      "provenance": [],
      "include_colab_link": true
    },
    "kernelspec": {
      "display_name": "Python 3",
      "name": "python3"
    }
  },
  "nbformat": 4,
  "nbformat_minor": 0
}