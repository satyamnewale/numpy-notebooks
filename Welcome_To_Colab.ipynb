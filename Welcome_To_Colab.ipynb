{
  "cells": [
    {
      "cell_type": "markdown",
      "metadata": {
        "id": "view-in-github",
        "colab_type": "text"
      },
      "source": [
        "<a href=\"https://colab.research.google.com/github/satyamnewale/numpy-notebooks/blob/main/Welcome_To_Colab.ipynb\" target=\"_parent\"><img src=\"https://colab.research.google.com/assets/colab-badge.svg\" alt=\"Open In Colab\"/></a>"
      ]
    },
    {
      "cell_type": "markdown",
      "source": [
        "Understand fundamental linear algebra transformations."
      ],
      "metadata": {
        "id": "Ek5vyGkOp0jU"
      }
    },
    {
      "cell_type": "code",
      "source": [
        "import numpy as np\n",
        "\n",
        "a = np.array([[2,5,1],[-4,0,-7],[13,5,-9]])\n",
        "b = np.reshape(a,(3,3))\n",
        "print(b)\n",
        "# transpose and determinant\n",
        "tr = b.T\n",
        "det = np.linalg.det(b)\n",
        "print(\"transpose: \",tr)\n",
        "print(\"det : \",det)\n",
        "\n",
        "# inverse\n",
        "inv = np.linalg.inv(b)\n",
        "print(\"inv: \",inv)\n",
        "\n",
        "#inverse property check\n",
        "isTrue = np.allclose(b @ inv, np.eye(3))\n",
        "print(\"Is B @ B_inv = I :\", isTrue)\n",
        "\n",
        "#eignvalue and eigenvector\n",
        "eigenvalues, eigenvectors = np.linalg.eig(b)\n",
        "print(\"eigenvalues: \",eigenvalues)\n",
        "print(\"eigenvectors: \",eigenvectors)\n",
        "\n",
        "# eigen validation\n",
        "for i in range(len(eigenvalues)):\n",
        "    eigenvalue = eigenvalues[i]\n",
        "    eigenvector = eigenvectors[:, i]\n",
        "\n",
        "    left = b @ eigenvector\n",
        "    right = eigenvalue * eigenvector\n",
        "\n",
        "    print(f\"Eigenvalue {eigenvalue:.3f} → Check:\", np.allclose(left, right))"
      ],
      "metadata": {
        "colab": {
          "base_uri": "https://localhost:8080/"
        },
        "id": "dnwiGIzDp2Uk",
        "outputId": "f5f7756f-4ab2-488a-ce42-db3d8026b089"
      },
      "execution_count": 55,
      "outputs": [
        {
          "output_type": "stream",
          "name": "stdout",
          "text": [
            "[[ 2  5  1]\n",
            " [-4  0 -7]\n",
            " [13  5 -9]]\n",
            "transpose:  [[ 2 -4 13]\n",
            " [ 5  0  5]\n",
            " [ 1 -7 -9]]\n",
            "det :  -585.0000000000002\n",
            "inv:  [[-0.05982906 -0.08547009  0.05982906]\n",
            " [ 0.21709402  0.05299145 -0.01709402]\n",
            " [ 0.03418803 -0.09401709 -0.03418803]]\n",
            "Is B @ B_inv = I : True\n",
            "eigenvalues:  [  1.61872247+7.38396249j   1.61872247-7.38396249j\n",
            " -10.23744495+0.j        ]\n",
            "eigenvectors:  [[-0.09079134-0.46717354j -0.09079134+0.46717354j -0.2619592 +0.j        ]\n",
            " [ 0.7197536 +0.j          0.7197536 -0.j          0.47288573+0.j        ]\n",
            " [-0.11455943-0.49227706j -0.11455943+0.49227706j  0.84128263+0.j        ]]\n",
            "Eigenvalue 1.619+7.384j → Check: True\n",
            "Eigenvalue 1.619-7.384j → Check: True\n",
            "Eigenvalue -10.237+0.000j → Check: True\n"
          ]
        }
      ]
    },
    {
      "cell_type": "code",
      "source": [
        "import numpy as np\n",
        "\n",
        "a = np.array([[1,2,3],[2,4,6],[3,6,9]])\n",
        "b = np.reshape(a,(3,3))\n",
        "print(b)\n",
        "# transpose and determinant\n",
        "tr = b.T\n",
        "det = np.linalg.det(b)\n",
        "print(\"transpose: \",tr)\n",
        "print(\"det : \",det)\n",
        "\n",
        "# inverse\n",
        "isInvertible = not np.allclose(det, 0)\n",
        "print(\"Is matrix invertible?\", isInvertible)\n",
        "\n",
        "#eignvalue and eigenvector\n",
        "eigenvalues, eigenvectors = np.linalg.eig(b)\n",
        "print(\"eigenvalues: \",eigenvalues)\n",
        "print(\"eigenvectors: \",eigenvectors)\n",
        "\n",
        "# eigen validation\n",
        "for i in range(len(eigenvalues)):\n",
        "    eigenvalue = eigenvalues[i]\n",
        "    eigenvector = eigenvectors[:, i]\n",
        "\n",
        "    left = b @ eigenvector\n",
        "    right = eigenvalue * eigenvector\n",
        "\n",
        "    print(f\"Eigenvalue {eigenvalue:.3f} → Check:\", np.allclose(left, right))"
      ],
      "metadata": {
        "colab": {
          "base_uri": "https://localhost:8080/"
        },
        "outputId": "f84a314c-9b2b-4fba-df20-8aa570dddb39",
        "id": "-J5z_ozJs1X8"
      },
      "execution_count": 54,
      "outputs": [
        {
          "output_type": "stream",
          "name": "stdout",
          "text": [
            "[[1 2 3]\n",
            " [2 4 6]\n",
            " [3 6 9]]\n",
            "transpose:  [[1 2 3]\n",
            " [2 4 6]\n",
            " [3 6 9]]\n",
            "det :  0.0\n",
            "Is matrix invertible? False\n",
            "eigenvalues:  [ 1.40000000e+01  3.58824538e-16 -5.87239501e-16]\n",
            "eigenvectors:  [[ 0.26726124 -0.11336834  0.6357427 ]\n",
            " [ 0.53452248 -0.80883073 -0.72308631]\n",
            " [ 0.80178373  0.57700993  0.27014331]]\n",
            "Eigenvalue 14.000 → Check: True\n",
            "Eigenvalue 0.000 → Check: True\n",
            "Eigenvalue -0.000 → Check: True\n"
          ]
        }
      ]
    },
    {
      "cell_type": "markdown",
      "source": [
        "1. determinant is calculated of square matrix.\n",
        "2. if determinant of matrix is 0 then it doesnt has inverse matrix.\n",
        "3. if inverse matrix present then it satisfies A @ A_inv = I.\n",
        "4. eignvals and eigenvecs if satisfies Av=λv equation then it correct.\n",
        "\n"
      ],
      "metadata": {
        "id": "JHDYTun-21SD"
      }
    }
  ],
  "metadata": {
    "colab": {
      "name": "Welcome To Colab",
      "provenance": [],
      "include_colab_link": true
    },
    "kernelspec": {
      "display_name": "Python 3",
      "name": "python3"
    }
  },
  "nbformat": 4,
  "nbformat_minor": 0
}